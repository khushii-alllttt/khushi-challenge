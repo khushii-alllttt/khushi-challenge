{
  "nbformat": 4,
  "nbformat_minor": 0,
  "metadata": {
    "colab": {
      "provenance": [],
      "authorship_tag": "ABX9TyMSdF48OzQHBjqWpV6Ovs4j",
      "include_colab_link": true
    },
    "kernelspec": {
      "name": "python3",
      "display_name": "Python 3"
    },
    "language_info": {
      "name": "python"
    }
  },
  "cells": [
    {
      "cell_type": "markdown",
      "metadata": {
        "id": "view-in-github",
        "colab_type": "text"
      },
      "source": [
        "<a href=\"https://colab.research.google.com/github/khushii-alllttt/khushi-challenge/blob/main/Challenge.ipynb\" target=\"_parent\"><img src=\"https://colab.research.google.com/assets/colab-badge.svg\" alt=\"Open In Colab\"/></a>"
      ]
    },
    {
      "cell_type": "code",
      "execution_count": 2,
      "metadata": {
        "colab": {
          "base_uri": "https://localhost:8080/"
        },
        "id": "l0-szPoyTfyv",
        "outputId": "5b71b97c-75b4-45be-a180-1824fdb32ab1"
      },
      "outputs": [
        {
          "output_type": "stream",
          "name": "stdout",
          "text": [
            "Original List: ['Ram', 1, 'Shyam', 2, 'Aman', 3]\n",
            "Sorted List (Strings first, then Numbers): ['Aman', 'Ram', 'Shyam', 1, 2, 3]\n"
          ]
        }
      ],
      "source": [
        "L = [\"Ram\", 1, \"Shyam\", 2, \"Aman\", 3]\n",
        "print(\"Original List:\", L)\n",
        "\n",
        "# Separate strings and integers\n",
        "strings = [x for x in L if isinstance(x, str)]\n",
        "numbers = [x for x in L if isinstance(x, int)]\n",
        "\n",
        "# Sort each type\n",
        "strings.sort()\n",
        "numbers.sort()\n",
        "\n",
        "# Combine back (optional)\n",
        "L_sorted = strings + numbers\n",
        "print(\"Sorted List (Strings first, then Numbers):\", L_sorted)\n"
      ]
    }
  ]
}